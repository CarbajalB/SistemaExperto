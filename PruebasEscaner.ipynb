{
 "cells": [
  {
   "cell_type": "markdown",
   "metadata": {},
   "source": [
    "## Analizador Lexico\n",
    "Un analizador lexico transforma una entrada en tokens"
   ]
  },
  {
   "cell_type": "code",
   "execution_count": 5,
   "metadata": {},
   "outputs": [],
   "source": [
    "entrada = \"Si si es de dia entonces mañana no es de noche\""
   ]
  },
  {
   "cell_type": "code",
   "execution_count": 6,
   "metadata": {},
   "outputs": [
    {
     "data": {
      "text/plain": [
       "['si',\n",
       " 'si',\n",
       " 'es',\n",
       " 'de',\n",
       " 'dia',\n",
       " 'entonces',\n",
       " 'mañana',\n",
       " 'no',\n",
       " 'es',\n",
       " 'de',\n",
       " 'noche']"
      ]
     },
     "execution_count": 6,
     "metadata": {},
     "output_type": "execute_result"
    }
   ],
   "source": [
    "#tokens = entrada.lower().split()\n",
    "#tokens"
   ]
  },
  {
   "cell_type": "code",
   "execution_count": 10,
   "metadata": {},
   "outputs": [],
   "source": [
    "from enum import Enum\n",
    "\n",
    "class TipoToken(Enum):\n",
    "    O = 1\n",
    "    Y = 2\n",
    "    S = 3\n",
    "    N = 4\n",
    "    E = 5\n",
    "    P = 6"
   ]
  },
  {
   "cell_type": "code",
   "execution_count": 12,
   "metadata": {
    "vscode": {
     "languageId": "javascript"
    }
   },
   "outputs": [
    {
     "name": "stdout",
     "output_type": "stream",
     "text": [
      "[{'valor': 'si', 'tipo': <TipoToken.S: 3>}, {'valor': 'si', 'tipo': <TipoToken.S: 3>}, {'valor': 'es', 'tipo': <TipoToken.P: 6>}, {'valor': 'de', 'tipo': <TipoToken.P: 6>}, {'valor': 'dia', 'tipo': <TipoToken.P: 6>}, {'valor': 'entonces', 'tipo': <TipoToken.E: 5>}, {'valor': 'mañana', 'tipo': <TipoToken.P: 6>}, {'valor': 'no', 'tipo': <TipoToken.N: 4>}, {'valor': 'es', 'tipo': <TipoToken.P: 6>}, {'valor': 'de', 'tipo': <TipoToken.P: 6>}, {'valor': 'noche', 'tipo': <TipoToken.P: 6>}]\n"
     ]
    }
   ],
   "source": [
    "def analizador_lexico(entrada : str) -> list:\n",
    "    tokens = entrada.lower().split()\n",
    "    lexemas = []\n",
    "    for token in tokens:\n",
    "        if token == 'o':\n",
    "            lexemas.append({\"valor\" : token , \"tipo\": TipoToken.O })\n",
    "        elif token == 'y':\n",
    "            lexemas.append({\"valor\" : token , \"tipo\": TipoToken.Y})\n",
    "        elif token == 'si':\n",
    "            lexemas.append({\"valor\" : token , \"tipo\": TipoToken.S})\n",
    "        elif token == 'entonces':\n",
    "            lexemas.append({\"valor\" : token , \"tipo\": TipoToken.E})\n",
    "        elif token == 'no':\n",
    "            lexemas.append({\"valor\" : token , \"tipo\": TipoToken.N})\n",
    "        else :\n",
    "            lexemas.append({\"valor\" :token , \"tipo\": TipoToken.P })\n",
    "            \n",
    "    return lexemas\n",
    "result = analizador_lexico(entrada)\n",
    "print(result)"
   ]
  },
  {
   "cell_type": "code",
   "execution_count": null,
   "metadata": {
    "vscode": {
     "languageId": "javascript"
    }
   },
   "outputs": [],
   "source": []
  },
  {
   "cell_type": "markdown",
   "metadata": {},
   "source": [
    "## Analizador Sintactico"
   ]
  },
  {
   "cell_type": "markdown",
   "metadata": {},
   "source": []
  },
  {
   "cell_type": "code",
   "execution_count": 13,
   "metadata": {},
   "outputs": [],
   "source": [
    "class EstadosAnalizador(Enum):\n",
    "    INICIO = 1\n",
    "    ATOMO1 = 2\n",
    "    ATOMO2 = 15\n",
    "    ATOMO3 = 16\n",
    "    ATOMO4 = 17\n",
    "    ATOMO5 = 18\n",
    "    ATOMO6 = 19\n",
    "    ATOMO7 =22\n",
    "    PRECEDENTE = 2\n",
    "    ERROR1 = 3\n",
    "    ERROR2 = 11\n",
    "    ERROR3 = 12\n",
    "    ERROR4 = 13\n",
    "    ERROR5 = 14\n",
    "    ERROR6 = 20\n",
    "    ERROR7 = 21\n",
    "    NEGACION = 4\n",
    "    CONSECUENTE = 5\n",
    "    ATOMO = 6\n",
    "    DISYUNCION = 7\n",
    "    CONJUNCION = 8\n",
    "    FIN = 10"
   ]
  },
  {
   "cell_type": "code",
   "execution_count": 14,
   "metadata": {},
   "outputs": [],
   "source": [
    "def analizador_sintactico(lexemas : list):  \n",
    "    EstadoActual = EstadosAnalizador.INICIO\n",
    "\n",
    "    for l in lexemas:\n",
    "        lexema = l['tipo']\n",
    "        if EstadoActual == EstadosAnalizador.INICIO:\n",
    "            #PRECEDENTE\n",
    "            if lexema == TipoToken.S:\n",
    "                EstadoActual = EstadosAnalizador.PRECEDENTE\n",
    "            elif lexema == TipoToken.Y or lexema == TipoToken.O or lexema == TipoToken.E:\n",
    "                EstadoActual = EstadosAnalizador.ERROR2\n",
    "            elif lexema == TipoToken.N:\n",
    "                EstadoActual = EstadosAnalizador.NEGACION\n",
    "            else:\n",
    "                EstadoActual = EstadosAnalizador.ATOMO2\n",
    "                #CONSECUENTE\n",
    "                if lexema == TipoToken.E:\n",
    "                    EstadoActual = EstadosAnalizador.CONSECUENTE\n",
    "                elif lexema == TipoToken.Y or lexema == TipoToken.O or lexema == TipoToken.E:\n",
    "                    EstadoActual = EstadosAnalizador.ERROR3\n",
    "                elif lexema == TipoToken.N:\n",
    "                    EstadoActual = EstadosAnalizador.NEGACION\n",
    "                else:\n",
    "                    EstadoActual = EstadosAnalizador.ATOMO3\n",
    "        elif EstadoActual == EstadosAnalizador.ATOMO1:   \n",
    "            #CONJUNCION\n",
    "            if lexema == TipoToken.Y:\n",
    "                EstadoActual = EstadosAnalizador.CONJUNCION\n",
    "            elif lexema == TipoToken.S or lexema == TipoToken.E or lexema == TipoToken.Y or lexema == TipoToken.O:\n",
    "                EstadoActual = EstadosAnalizador.ERROR4\n",
    "            elif lexema == TipoToken.N:\n",
    "                EstadoActual = EstadosAnalizador.NEGACION\n",
    "            else:\n",
    "                EstadoActual = EstadosAnalizador.ATOMO5\n",
    "            #DISYUNCION\n",
    "            if lexema == TipoToken.O:\n",
    "                EstadoActual = EstadosAnalizador.DISYUNCION\n",
    "            elif lexema == TipoToken.S or lexema == TipoToken.E or lexema == TipoToken.Y or lexema == TipoToken.O:\n",
    "                EstadoActual = EstadosAnalizador.ERROR5\n",
    "            elif lexema == TipoToken.N:\n",
    "                EstadoActual = EstadosAnalizador.NEGACION\n",
    "            else:\n",
    "                EstadoActual = EstadosAnalizador.ATOMO6\n",
    "            #NEGACION\n",
    "            if lexema == TipoToken.N:\n",
    "                EstadoActual = EstadosAnalizador.NEGACION\n",
    "            elif lexema == TipoToken.S or lexema == TipoToken.E or lexema == TipoToken.Y or lexema == TipoToken.O:\n",
    "                EstadoActual = EstadosAnalizador.ERROR6\n",
    "            else:\n",
    "                EstadoActual = EstadosAnalizador.ATOMO7\n",
    "        elif EstadoActual == EstadosAnalizador.ERROR1:\n",
    "            break\n",
    "        elif EstadoActual == EstadosAnalizador.FIN:\n",
    "            break     \n",
    "    return EstadoActual  "
   ]
  },
  {
   "cell_type": "code",
   "execution_count": null,
   "metadata": {},
   "outputs": [
    {
     "name": "stdout",
     "output_type": "stream",
     "text": [
      "EstadosAnalizador.ERROR6\n"
     ]
    }
   ],
   "source": [
    "print(EstadoActual)"
   ]
  },
  {
   "cell_type": "code",
   "execution_count": 15,
   "metadata": {},
   "outputs": [
    {
     "name": "stdout",
     "output_type": "stream",
     "text": [
      "1: 1 ∧ 2 -> 3\n",
      "2: 4 ∧ 5 -> 6\n",
      "3: 7 ∧ 8 -> 9\n",
      "4: 10 ∧ 11 -> 12\n",
      "5: 13 ∧ 14 -> 15\n",
      "6: 7 ∧ 16 -> 17\n",
      "7: 13 ∧ 18 -> 19\n",
      "8: 20 ∧ 21 -> 22\n",
      "9: 23 ∧ 14 -> 24\n",
      "10: 25 ∧ 26 -> 27\n"
     ]
    }
   ],
   "source": [
    "archivo = open('Reglas Simbolos.txt', 'r')\n",
    "contenido = archivo.read()\n",
    "archivo.close()\n",
    "\n",
    "print(contenido)"
   ]
  }
 ],
 "metadata": {
  "kernelspec": {
   "display_name": ".venv",
   "language": "python",
   "name": "python3"
  },
  "language_info": {
   "codemirror_mode": {
    "name": "ipython",
    "version": 3
   },
   "file_extension": ".py",
   "mimetype": "text/x-python",
   "name": "python",
   "nbconvert_exporter": "python",
   "pygments_lexer": "ipython3",
   "version": "3.10.13"
  }
 },
 "nbformat": 4,
 "nbformat_minor": 2
}
